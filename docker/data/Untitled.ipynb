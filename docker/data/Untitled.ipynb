{
 "cells": [
  {
   "cell_type": "markdown",
   "id": "620d1ab0-6d45-4af2-a76c-6578b308cccc",
   "metadata": {},
   "source": [
    "# Notebook Cinema Emotion\n",
    "\n",
    "__Presentation__: This notebook is aimed at extracting, transforming and loading the data from IMDB and TMDB in the MySQL server Database.\n",
    "\n",
    "__Prerequisites__: Docker image jupyter/all-spark-notebook:latest (Spark, Python 3)\n",
    "\n",
    "__Imports__: \n",
    "\n",
    "__Input Data__: [imdb](https://www.imdb.com/)\n",
    "\n",
    "__Autors__: [David URBAN](https://www.linkedin.com/in/david-urban-703b9813a/)\n",
    "\n",
    "__Contact Email__: david.urban@labom2iformation.fr\n",
    "\n",
    "__Create at__: 07/21/2023\n",
    "\n"
   ]
  },
  {
   "cell_type": "markdown",
   "id": "6c95db79-a928-4f92-a137-df983204e96b",
   "metadata": {},
   "source": []
  }
 ],
 "metadata": {
  "kernelspec": {
   "display_name": "Python 3 (ipykernel)",
   "language": "python",
   "name": "python3"
  },
  "language_info": {
   "codemirror_mode": {
    "name": "ipython",
    "version": 3
   },
   "file_extension": ".py",
   "mimetype": "text/x-python",
   "name": "python",
   "nbconvert_exporter": "python",
   "pygments_lexer": "ipython3",
   "version": "3.10.11"
  }
 },
 "nbformat": 4,
 "nbformat_minor": 5
}
